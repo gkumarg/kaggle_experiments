{
 "cells": [
  {
   "cell_type": "markdown",
   "id": "57997426",
   "metadata": {
    "papermill": {
     "duration": 0.008892,
     "end_time": "2022-10-16T14:23:12.241072",
     "exception": false,
     "start_time": "2022-10-16T14:23:12.232180",
     "status": "completed"
    },
    "tags": []
   },
   "source": [
    "## Analysis of London Homes - Energy Data \n",
    "\n",
    "Context\n",
    "The dataset featured below was created by aggregating hourly energy consumption data from individual London homes provided by UK Power Networks. The dataset keeps track of the energy consumption of 5,567 randomly selected households in London from November 2011 to February 2014.\n"
   ]
  },
  {
   "cell_type": "code",
   "execution_count": 1,
   "id": "18901544",
   "metadata": {
    "_cell_guid": "b1076dfc-b9ad-4769-8c92-a6c4dae69d19",
    "_kg_hide-input": true,
    "_uuid": "8f2839f25d086af736a60e9eeb907d3b93b6e0e5",
    "execution": {
     "iopub.execute_input": "2022-10-16T14:23:12.258804Z",
     "iopub.status.busy": "2022-10-16T14:23:12.258124Z",
     "iopub.status.idle": "2022-10-16T14:23:14.919912Z",
     "shell.execute_reply": "2022-10-16T14:23:14.918865Z"
    },
    "papermill": {
     "duration": 2.673399,
     "end_time": "2022-10-16T14:23:14.922467",
     "exception": false,
     "start_time": "2022-10-16T14:23:12.249068",
     "status": "completed"
    },
    "tags": []
   },
   "outputs": [
    {
     "name": "stdout",
     "output_type": "stream",
     "text": [
      "/kaggle/input/london-homes-energy-data/london_energy.csv\n"
     ]
    }
   ],
   "source": [
    "#Imports\n",
    "\n",
    "import numpy as np # linear algebra\n",
    "import pandas as pd # data processing, CSV file I/O (e.g. pd.read_csv)\n",
    "import seaborn as sns # plotting\n",
    "import matplotlib.pyplot as plt # plotting\n",
    "import plotly.express as px\n",
    "import plotly.graph_objects as go\n",
    "\n",
    "import datetime as dt\n",
    "\n",
    "# Input data files are available in the read-only \"../input/\" directory\n",
    "# For example, running this (by clicking run or pressing Shift+Enter) will list all files under the input directory\n",
    "\n",
    "import os\n",
    "for dirname, _, filenames in os.walk('/kaggle/input'):\n",
    "    for filename in filenames:\n",
    "        print(os.path.join(dirname, filename))\n",
    "\n"
   ]
  },
  {
   "cell_type": "markdown",
   "id": "b94b5923",
   "metadata": {
    "papermill": {
     "duration": 0.007655,
     "end_time": "2022-10-16T14:23:14.938058",
     "exception": false,
     "start_time": "2022-10-16T14:23:14.930403",
     "status": "completed"
    },
    "tags": []
   },
   "source": [
    "### <font color='289C4E'>Table of contents<font><a class='anchor' id='top'></a>\n",
    "- [Read Data](#1)\n",
    "- [Exploratory Data Analysis](#2)\n",
    "- [Next Steps](#3)\n"
   ]
  },
  {
   "cell_type": "markdown",
   "id": "f40138d2",
   "metadata": {
    "papermill": {
     "duration": 0.007539,
     "end_time": "2022-10-16T14:23:14.954686",
     "exception": false,
     "start_time": "2022-10-16T14:23:14.947147",
     "status": "completed"
    },
    "tags": []
   },
   "source": [
    "## Read Data"
   ]
  },
  {
   "cell_type": "code",
   "execution_count": 2,
   "id": "f59ee772",
   "metadata": {
    "_kg_hide-input": false,
    "execution": {
     "iopub.execute_input": "2022-10-16T14:23:14.972087Z",
     "iopub.status.busy": "2022-10-16T14:23:14.971268Z",
     "iopub.status.idle": "2022-10-16T14:23:17.281936Z",
     "shell.execute_reply": "2022-10-16T14:23:17.280637Z"
    },
    "papermill": {
     "duration": 2.322631,
     "end_time": "2022-10-16T14:23:17.285215",
     "exception": false,
     "start_time": "2022-10-16T14:23:14.962584",
     "status": "completed"
    },
    "tags": []
   },
   "outputs": [],
   "source": [
    "df = pd.read_csv('/kaggle/input/london-homes-energy-data/london_energy.csv',infer_datetime_format=True)"
   ]
  },
  {
   "cell_type": "markdown",
   "id": "5a442bf9",
   "metadata": {
    "papermill": {
     "duration": 0.011601,
     "end_time": "2022-10-16T14:23:17.308958",
     "exception": false,
     "start_time": "2022-10-16T14:23:17.297357",
     "status": "completed"
    },
    "tags": []
   },
   "source": [
    "## EDA"
   ]
  },
  {
   "cell_type": "markdown",
   "id": "f2af7036",
   "metadata": {
    "papermill": {
     "duration": 0.01212,
     "end_time": "2022-10-16T14:23:17.332482",
     "exception": false,
     "start_time": "2022-10-16T14:23:17.320362",
     "status": "completed"
    },
    "tags": []
   },
   "source": [
    "5 preliminary checks:\n",
    "1. Sample the data using (head/tail/sample)\n",
    "2. Dimensions of the data (shape)\n",
    "3. Data types of the features\n",
    "4. Count of missing data\n",
    "5. Outliers"
   ]
  },
  {
   "cell_type": "code",
   "execution_count": 3,
   "id": "6413d941",
   "metadata": {
    "_kg_hide-input": true,
    "execution": {
     "iopub.execute_input": "2022-10-16T14:23:17.356916Z",
     "iopub.status.busy": "2022-10-16T14:23:17.356501Z",
     "iopub.status.idle": "2022-10-16T14:23:17.379622Z",
     "shell.execute_reply": "2022-10-16T14:23:17.378786Z"
    },
    "papermill": {
     "duration": 0.038294,
     "end_time": "2022-10-16T14:23:17.382285",
     "exception": false,
     "start_time": "2022-10-16T14:23:17.343991",
     "status": "completed"
    },
    "tags": []
   },
   "outputs": [
    {
     "data": {
      "text/html": [
       "<div>\n",
       "<style scoped>\n",
       "    .dataframe tbody tr th:only-of-type {\n",
       "        vertical-align: middle;\n",
       "    }\n",
       "\n",
       "    .dataframe tbody tr th {\n",
       "        vertical-align: top;\n",
       "    }\n",
       "\n",
       "    .dataframe thead th {\n",
       "        text-align: right;\n",
       "    }\n",
       "</style>\n",
       "<table border=\"1\" class=\"dataframe\">\n",
       "  <thead>\n",
       "    <tr style=\"text-align: right;\">\n",
       "      <th></th>\n",
       "      <th>LCLid</th>\n",
       "      <th>Date</th>\n",
       "      <th>KWH</th>\n",
       "    </tr>\n",
       "  </thead>\n",
       "  <tbody>\n",
       "    <tr>\n",
       "      <th>0</th>\n",
       "      <td>MAC000002</td>\n",
       "      <td>2012-10-12</td>\n",
       "      <td>7.098</td>\n",
       "    </tr>\n",
       "    <tr>\n",
       "      <th>1</th>\n",
       "      <td>MAC000002</td>\n",
       "      <td>2012-10-13</td>\n",
       "      <td>11.087</td>\n",
       "    </tr>\n",
       "    <tr>\n",
       "      <th>2</th>\n",
       "      <td>MAC000002</td>\n",
       "      <td>2012-10-14</td>\n",
       "      <td>13.223</td>\n",
       "    </tr>\n",
       "    <tr>\n",
       "      <th>3</th>\n",
       "      <td>MAC000002</td>\n",
       "      <td>2012-10-15</td>\n",
       "      <td>10.257</td>\n",
       "    </tr>\n",
       "    <tr>\n",
       "      <th>4</th>\n",
       "      <td>MAC000002</td>\n",
       "      <td>2012-10-16</td>\n",
       "      <td>9.769</td>\n",
       "    </tr>\n",
       "  </tbody>\n",
       "</table>\n",
       "</div>"
      ],
      "text/plain": [
       "       LCLid        Date     KWH\n",
       "0  MAC000002  2012-10-12   7.098\n",
       "1  MAC000002  2012-10-13  11.087\n",
       "2  MAC000002  2012-10-14  13.223\n",
       "3  MAC000002  2012-10-15  10.257\n",
       "4  MAC000002  2012-10-16   9.769"
      ]
     },
     "execution_count": 3,
     "metadata": {},
     "output_type": "execute_result"
    }
   ],
   "source": [
    "df.head()"
   ]
  },
  {
   "cell_type": "markdown",
   "id": "89158aa8",
   "metadata": {
    "papermill": {
     "duration": 0.011774,
     "end_time": "2022-10-16T14:23:17.406696",
     "exception": false,
     "start_time": "2022-10-16T14:23:17.394922",
     "status": "completed"
    },
    "tags": []
   },
   "source": [
    "<div class=\"alert alert-block alert-info\">\n",
    "<b>Features: LCLid, Date and KWH.</b> \n",
    "   \n",
    "- LCLid - individual household unique identifier - (str)\n",
    "- Date - date of recorded measurement - (date)\n",
    "- KWH - energy consumption measurement in kWh - (float)\n",
    "</div>"
   ]
  },
  {
   "cell_type": "markdown",
   "id": "f3bf9bac",
   "metadata": {
    "papermill": {
     "duration": 0.011203,
     "end_time": "2022-10-16T14:23:17.428827",
     "exception": false,
     "start_time": "2022-10-16T14:23:17.417624",
     "status": "completed"
    },
    "tags": []
   },
   "source": [
    "**Dimension of the data**"
   ]
  },
  {
   "cell_type": "code",
   "execution_count": 4,
   "id": "004b049b",
   "metadata": {
    "_kg_hide-input": true,
    "execution": {
     "iopub.execute_input": "2022-10-16T14:23:17.452462Z",
     "iopub.status.busy": "2022-10-16T14:23:17.452139Z",
     "iopub.status.idle": "2022-10-16T14:23:17.457909Z",
     "shell.execute_reply": "2022-10-16T14:23:17.457096Z"
    },
    "papermill": {
     "duration": 0.023502,
     "end_time": "2022-10-16T14:23:17.463128",
     "exception": false,
     "start_time": "2022-10-16T14:23:17.439626",
     "status": "completed"
    },
    "tags": []
   },
   "outputs": [
    {
     "data": {
      "text/plain": [
       "(3510433, 3)"
      ]
     },
     "execution_count": 4,
     "metadata": {},
     "output_type": "execute_result"
    }
   ],
   "source": [
    "df.shape"
   ]
  },
  {
   "cell_type": "markdown",
   "id": "7fc3aa59",
   "metadata": {
    "papermill": {
     "duration": 0.011192,
     "end_time": "2022-10-16T14:23:17.485680",
     "exception": false,
     "start_time": "2022-10-16T14:23:17.474488",
     "status": "completed"
    },
    "tags": []
   },
   "source": [
    "There are 3.5 million records available"
   ]
  },
  {
   "cell_type": "markdown",
   "id": "404baa64",
   "metadata": {
    "papermill": {
     "duration": 0.011186,
     "end_time": "2022-10-16T14:23:17.508183",
     "exception": false,
     "start_time": "2022-10-16T14:23:17.496997",
     "status": "completed"
    },
    "tags": []
   },
   "source": [
    "**Timeframe in question**"
   ]
  },
  {
   "cell_type": "code",
   "execution_count": 5,
   "id": "87d17503",
   "metadata": {
    "_kg_hide-input": true,
    "execution": {
     "iopub.execute_input": "2022-10-16T14:23:17.532611Z",
     "iopub.status.busy": "2022-10-16T14:23:17.532286Z",
     "iopub.status.idle": "2022-10-16T14:23:18.166387Z",
     "shell.execute_reply": "2022-10-16T14:23:18.165454Z"
    },
    "papermill": {
     "duration": 0.649655,
     "end_time": "2022-10-16T14:23:18.169128",
     "exception": false,
     "start_time": "2022-10-16T14:23:17.519473",
     "status": "completed"
    },
    "tags": []
   },
   "outputs": [
    {
     "name": "stdout",
     "output_type": "stream",
     "text": [
      "The first timestamp is: 2011-11-23 and last timestamp is : 2014-02-28\n"
     ]
    }
   ],
   "source": [
    "print(f\"The first timestamp is: {df.Date.min()} and last timestamp is : {df.Date.max()}\")"
   ]
  },
  {
   "cell_type": "markdown",
   "id": "3b9af5d8",
   "metadata": {
    "papermill": {
     "duration": 0.011956,
     "end_time": "2022-10-16T14:23:18.194041",
     "exception": false,
     "start_time": "2022-10-16T14:23:18.182085",
     "status": "completed"
    },
    "tags": []
   },
   "source": [
    "**Inspect datatype for the columns**"
   ]
  },
  {
   "cell_type": "code",
   "execution_count": 6,
   "id": "2cf00ea0",
   "metadata": {
    "_kg_hide-input": true,
    "execution": {
     "iopub.execute_input": "2022-10-16T14:23:18.219732Z",
     "iopub.status.busy": "2022-10-16T14:23:18.219386Z",
     "iopub.status.idle": "2022-10-16T14:23:18.239760Z",
     "shell.execute_reply": "2022-10-16T14:23:18.238899Z"
    },
    "papermill": {
     "duration": 0.036612,
     "end_time": "2022-10-16T14:23:18.242739",
     "exception": false,
     "start_time": "2022-10-16T14:23:18.206127",
     "status": "completed"
    },
    "tags": []
   },
   "outputs": [
    {
     "name": "stdout",
     "output_type": "stream",
     "text": [
      "<class 'pandas.core.frame.DataFrame'>\n",
      "RangeIndex: 3510433 entries, 0 to 3510432\n",
      "Data columns (total 3 columns):\n",
      " #   Column  Dtype  \n",
      "---  ------  -----  \n",
      " 0   LCLid   object \n",
      " 1   Date    object \n",
      " 2   KWH     float64\n",
      "dtypes: float64(1), object(2)\n",
      "memory usage: 80.3+ MB\n"
     ]
    }
   ],
   "source": [
    "df.info()"
   ]
  },
  {
   "cell_type": "markdown",
   "id": "73688a31",
   "metadata": {
    "papermill": {
     "duration": 0.012589,
     "end_time": "2022-10-16T14:23:18.267944",
     "exception": false,
     "start_time": "2022-10-16T14:23:18.255355",
     "status": "completed"
    },
    "tags": []
   },
   "source": [
    "Date column is not in the datetime format yet. Update it and reinspect."
   ]
  },
  {
   "cell_type": "code",
   "execution_count": 7,
   "id": "0711d03b",
   "metadata": {
    "_kg_hide-input": true,
    "execution": {
     "iopub.execute_input": "2022-10-16T14:23:18.295025Z",
     "iopub.status.busy": "2022-10-16T14:23:18.294701Z",
     "iopub.status.idle": "2022-10-16T14:23:18.771508Z",
     "shell.execute_reply": "2022-10-16T14:23:18.770522Z"
    },
    "papermill": {
     "duration": 0.493371,
     "end_time": "2022-10-16T14:23:18.773853",
     "exception": false,
     "start_time": "2022-10-16T14:23:18.280482",
     "status": "completed"
    },
    "tags": []
   },
   "outputs": [],
   "source": [
    "# Set the Date column to datetime format\n",
    "df['Date'] = pd.to_datetime(df['Date'])"
   ]
  },
  {
   "cell_type": "markdown",
   "id": "2f3858d5",
   "metadata": {
    "papermill": {
     "duration": 0.007968,
     "end_time": "2022-10-16T14:23:18.790467",
     "exception": false,
     "start_time": "2022-10-16T14:23:18.782499",
     "status": "completed"
    },
    "tags": []
   },
   "source": [
    "**Number of days in the dataset**"
   ]
  },
  {
   "cell_type": "code",
   "execution_count": 8,
   "id": "954a35d3",
   "metadata": {
    "_kg_hide-input": true,
    "execution": {
     "iopub.execute_input": "2022-10-16T14:23:18.807928Z",
     "iopub.status.busy": "2022-10-16T14:23:18.807619Z",
     "iopub.status.idle": "2022-10-16T14:23:18.833898Z",
     "shell.execute_reply": "2022-10-16T14:23:18.832856Z"
    },
    "papermill": {
     "duration": 0.037501,
     "end_time": "2022-10-16T14:23:18.836076",
     "exception": false,
     "start_time": "2022-10-16T14:23:18.798575",
     "status": "completed"
    },
    "tags": []
   },
   "outputs": [
    {
     "data": {
      "text/plain": [
       "Timedelta('828 days 00:00:00')"
      ]
     },
     "execution_count": 8,
     "metadata": {},
     "output_type": "execute_result"
    }
   ],
   "source": [
    "df.Date.max()-df.Date.min()"
   ]
  },
  {
   "cell_type": "code",
   "execution_count": 9,
   "id": "58a8698c",
   "metadata": {
    "_kg_hide-input": true,
    "execution": {
     "iopub.execute_input": "2022-10-16T14:23:18.854243Z",
     "iopub.status.busy": "2022-10-16T14:23:18.853961Z",
     "iopub.status.idle": "2022-10-16T14:23:18.864469Z",
     "shell.execute_reply": "2022-10-16T14:23:18.863304Z"
    },
    "papermill": {
     "duration": 0.023899,
     "end_time": "2022-10-16T14:23:18.868270",
     "exception": false,
     "start_time": "2022-10-16T14:23:18.844371",
     "status": "completed"
    },
    "tags": []
   },
   "outputs": [
    {
     "name": "stdout",
     "output_type": "stream",
     "text": [
      "<class 'pandas.core.frame.DataFrame'>\n",
      "RangeIndex: 3510433 entries, 0 to 3510432\n",
      "Data columns (total 3 columns):\n",
      " #   Column  Dtype         \n",
      "---  ------  -----         \n",
      " 0   LCLid   object        \n",
      " 1   Date    datetime64[ns]\n",
      " 2   KWH     float64       \n",
      "dtypes: datetime64[ns](1), float64(1), object(1)\n",
      "memory usage: 80.3+ MB\n"
     ]
    }
   ],
   "source": [
    "df.info()"
   ]
  },
  {
   "cell_type": "markdown",
   "id": "4c033d05",
   "metadata": {
    "papermill": {
     "duration": 0.0086,
     "end_time": "2022-10-16T14:23:18.886538",
     "exception": false,
     "start_time": "2022-10-16T14:23:18.877938",
     "status": "completed"
    },
    "tags": []
   },
   "source": [
    "**Look for any missing data**"
   ]
  },
  {
   "cell_type": "code",
   "execution_count": 10,
   "id": "8ae79dc5",
   "metadata": {
    "_kg_hide-input": true,
    "execution": {
     "iopub.execute_input": "2022-10-16T14:23:18.905930Z",
     "iopub.status.busy": "2022-10-16T14:23:18.905648Z",
     "iopub.status.idle": "2022-10-16T14:23:19.031576Z",
     "shell.execute_reply": "2022-10-16T14:23:19.030564Z"
    },
    "papermill": {
     "duration": 0.137431,
     "end_time": "2022-10-16T14:23:19.033741",
     "exception": false,
     "start_time": "2022-10-16T14:23:18.896310",
     "status": "completed"
    },
    "tags": []
   },
   "outputs": [
    {
     "data": {
      "text/plain": [
       "LCLid    0\n",
       "Date     0\n",
       "KWH      0\n",
       "dtype: int64"
      ]
     },
     "execution_count": 10,
     "metadata": {},
     "output_type": "execute_result"
    }
   ],
   "source": [
    "df.isna().sum()"
   ]
  },
  {
   "cell_type": "markdown",
   "id": "6d8cfdfd",
   "metadata": {
    "papermill": {
     "duration": 0.008168,
     "end_time": "2022-10-16T14:23:19.050288",
     "exception": false,
     "start_time": "2022-10-16T14:23:19.042120",
     "status": "completed"
    },
    "tags": []
   },
   "source": [
    "Looks like there are no empty records. \n",
    "Could there be missing days?"
   ]
  },
  {
   "cell_type": "code",
   "execution_count": 11,
   "id": "30838a7e",
   "metadata": {
    "_kg_hide-input": true,
    "execution": {
     "iopub.execute_input": "2022-10-16T14:23:19.068640Z",
     "iopub.status.busy": "2022-10-16T14:23:19.067872Z",
     "iopub.status.idle": "2022-10-16T14:23:19.305309Z",
     "shell.execute_reply": "2022-10-16T14:23:19.304162Z"
    },
    "papermill": {
     "duration": 0.248921,
     "end_time": "2022-10-16T14:23:19.307481",
     "exception": false,
     "start_time": "2022-10-16T14:23:19.058560",
     "status": "completed"
    },
    "tags": []
   },
   "outputs": [
    {
     "name": "stdout",
     "output_type": "stream",
     "text": [
      "DatetimeIndex([], dtype='datetime64[ns]', freq=None)\n"
     ]
    }
   ],
   "source": [
    "my_range = pd.date_range(start=\"2011-11-23\", end=\"2014-02-28\", freq='D')\n",
    "\n",
    "print(my_range.difference(df['Date']))"
   ]
  },
  {
   "cell_type": "markdown",
   "id": "9317fb17",
   "metadata": {
    "papermill": {
     "duration": 0.008722,
     "end_time": "2022-10-16T14:23:19.325048",
     "exception": false,
     "start_time": "2022-10-16T14:23:19.316326",
     "status": "completed"
    },
    "tags": []
   },
   "source": [
    "Looks like there are no missing dates in between!"
   ]
  },
  {
   "cell_type": "code",
   "execution_count": 12,
   "id": "9d06c48e",
   "metadata": {
    "_kg_hide-input": true,
    "execution": {
     "iopub.execute_input": "2022-10-16T14:23:19.343284Z",
     "iopub.status.busy": "2022-10-16T14:23:19.342975Z",
     "iopub.status.idle": "2022-10-16T14:23:19.515031Z",
     "shell.execute_reply": "2022-10-16T14:23:19.513927Z"
    },
    "papermill": {
     "duration": 0.183677,
     "end_time": "2022-10-16T14:23:19.517264",
     "exception": false,
     "start_time": "2022-10-16T14:23:19.333587",
     "status": "completed"
    },
    "tags": []
   },
   "outputs": [
    {
     "data": {
      "text/html": [
       "<div>\n",
       "<style scoped>\n",
       "    .dataframe tbody tr th:only-of-type {\n",
       "        vertical-align: middle;\n",
       "    }\n",
       "\n",
       "    .dataframe tbody tr th {\n",
       "        vertical-align: top;\n",
       "    }\n",
       "\n",
       "    .dataframe thead th {\n",
       "        text-align: right;\n",
       "    }\n",
       "</style>\n",
       "<table border=\"1\" class=\"dataframe\">\n",
       "  <thead>\n",
       "    <tr style=\"text-align: right;\">\n",
       "      <th></th>\n",
       "      <th>KWH</th>\n",
       "    </tr>\n",
       "  </thead>\n",
       "  <tbody>\n",
       "    <tr>\n",
       "      <th>count</th>\n",
       "      <td>3.510433e+06</td>\n",
       "    </tr>\n",
       "    <tr>\n",
       "      <th>mean</th>\n",
       "      <td>1.013001e+01</td>\n",
       "    </tr>\n",
       "    <tr>\n",
       "      <th>std</th>\n",
       "      <td>9.134486e+00</td>\n",
       "    </tr>\n",
       "    <tr>\n",
       "      <th>min</th>\n",
       "      <td>0.000000e+00</td>\n",
       "    </tr>\n",
       "    <tr>\n",
       "      <th>25%</th>\n",
       "      <td>4.685000e+00</td>\n",
       "    </tr>\n",
       "    <tr>\n",
       "      <th>50%</th>\n",
       "      <td>7.819000e+00</td>\n",
       "    </tr>\n",
       "    <tr>\n",
       "      <th>75%</th>\n",
       "      <td>1.257600e+01</td>\n",
       "    </tr>\n",
       "    <tr>\n",
       "      <th>max</th>\n",
       "      <td>3.325560e+02</td>\n",
       "    </tr>\n",
       "  </tbody>\n",
       "</table>\n",
       "</div>"
      ],
      "text/plain": [
       "                KWH\n",
       "count  3.510433e+06\n",
       "mean   1.013001e+01\n",
       "std    9.134486e+00\n",
       "min    0.000000e+00\n",
       "25%    4.685000e+00\n",
       "50%    7.819000e+00\n",
       "75%    1.257600e+01\n",
       "max    3.325560e+02"
      ]
     },
     "execution_count": 12,
     "metadata": {},
     "output_type": "execute_result"
    }
   ],
   "source": [
    "df.describe()"
   ]
  },
  {
   "cell_type": "code",
   "execution_count": 13,
   "id": "dc0f481e",
   "metadata": {
    "_kg_hide-input": true,
    "execution": {
     "iopub.execute_input": "2022-10-16T14:23:19.537950Z",
     "iopub.status.busy": "2022-10-16T14:23:19.536296Z",
     "iopub.status.idle": "2022-10-16T14:23:20.198504Z",
     "shell.execute_reply": "2022-10-16T14:23:20.197575Z"
    },
    "papermill": {
     "duration": 0.674108,
     "end_time": "2022-10-16T14:23:20.200578",
     "exception": false,
     "start_time": "2022-10-16T14:23:19.526470",
     "status": "completed"
    },
    "tags": []
   },
   "outputs": [
    {
     "data": {
      "image/png": "[encoded data removed]",
      "text/plain": [
       "<Figure size 720x432 with 1 Axes>"
      ]
     },
     "metadata": {
      "needs_background": "light"
     },
     "output_type": "display_data"
    }
   ],
   "source": [
    "fig, ax = plt.subplots(figsize=(10,6))\n",
    "sns.boxplot(data=df['KWH'],ax = ax, palette=\"winter\",orient=\"h\")\n",
    "ax.set_title(\"Box-Whisker for KWH usage\", fontsize = 10)\n",
    "ax.set_xlabel(\"KWH\", fontsize = 10)\n",
    "ax.set_ylabel(\"KWH\", fontsize = 10)\n",
    "fig.tight_layout(pad = 1.1)\n",
    "plt.show()"
   ]
  },
  {
   "cell_type": "markdown",
   "id": "7abe15b1",
   "metadata": {
    "papermill": {
     "duration": 0.00896,
     "end_time": "2022-10-16T14:23:20.219522",
     "exception": false,
     "start_time": "2022-10-16T14:23:20.210562",
     "status": "completed"
    },
    "tags": []
   },
   "source": [
    "There are lot of outlier meters since the majority of meter usage is in the lower range."
   ]
  },
  {
   "cell_type": "code",
   "execution_count": 14,
   "id": "ae967929",
   "metadata": {
    "_kg_hide-input": true,
    "execution": {
     "iopub.execute_input": "2022-10-16T14:23:20.238983Z",
     "iopub.status.busy": "2022-10-16T14:23:20.238138Z",
     "iopub.status.idle": "2022-10-16T14:23:36.791909Z",
     "shell.execute_reply": "2022-10-16T14:23:36.791031Z"
    },
    "papermill": {
     "duration": 16.565755,
     "end_time": "2022-10-16T14:23:36.794142",
     "exception": false,
     "start_time": "2022-10-16T14:23:20.228387",
     "status": "completed"
    },
    "tags": []
   },
   "outputs": [
    {
     "data": {
      "image/png": "[encoded data removed]",
      "text/plain": [
       "<Figure size 720x432 with 1 Axes>"
      ]
     },
     "metadata": {
      "needs_background": "light"
     },
     "output_type": "display_data"
    }
   ],
   "source": [
    "fig, ax = plt.subplots(figsize=(10,6))\n",
    "sns.histplot(data=df, x=\"KWH\", kde=True)\n",
    "\n",
    "ax.set_title(\"Distribution plot for KWH usage\", fontsize = 10)\n",
    "ax.set_xlabel(\"KWH\", fontsize = 10)\n",
    "ax.set_ylabel(\"Count\", fontsize = 10)\n",
    "fig.tight_layout(pad = 1.1)\n",
    "plt.show()"
   ]
  },
  {
   "cell_type": "markdown",
   "id": "5397c346",
   "metadata": {
    "papermill": {
     "duration": 0.009002,
     "end_time": "2022-10-16T14:23:36.812705",
     "exception": false,
     "start_time": "2022-10-16T14:23:36.803703",
     "status": "completed"
    },
    "tags": []
   },
   "source": [
    "**Maximum KWH Usage seen in the dataset**"
   ]
  },
  {
   "cell_type": "code",
   "execution_count": 15,
   "id": "4a6d79de",
   "metadata": {
    "_kg_hide-input": true,
    "execution": {
     "iopub.execute_input": "2022-10-16T14:23:36.832252Z",
     "iopub.status.busy": "2022-10-16T14:23:36.831675Z",
     "iopub.status.idle": "2022-10-16T14:23:36.846607Z",
     "shell.execute_reply": "2022-10-16T14:23:36.845222Z"
    },
    "papermill": {
     "duration": 0.026926,
     "end_time": "2022-10-16T14:23:36.848655",
     "exception": false,
     "start_time": "2022-10-16T14:23:36.821729",
     "status": "completed"
    },
    "tags": []
   },
   "outputs": [
    {
     "name": "stdout",
     "output_type": "stream",
     "text": [
      "Highest single day usage in the dataset is: 332.556 KWH \n"
     ]
    }
   ],
   "source": [
    "print(f\"Highest single day usage in the dataset is: {df.KWH.max()} KWH \")"
   ]
  },
  {
   "cell_type": "markdown",
   "id": "19a03a30",
   "metadata": {
    "papermill": {
     "duration": 0.009164,
     "end_time": "2022-10-16T14:23:36.867274",
     "exception": false,
     "start_time": "2022-10-16T14:23:36.858110",
     "status": "completed"
    },
    "tags": []
   },
   "source": [
    "Before we look at the meter which has the highest usage for a single day, let's find how many unique meters are represented in the data"
   ]
  },
  {
   "cell_type": "code",
   "execution_count": 16,
   "id": "ff12b415",
   "metadata": {
    "_kg_hide-input": true,
    "execution": {
     "iopub.execute_input": "2022-10-16T14:23:36.887142Z",
     "iopub.status.busy": "2022-10-16T14:23:36.886834Z",
     "iopub.status.idle": "2022-10-16T14:23:37.100362Z",
     "shell.execute_reply": "2022-10-16T14:23:37.098945Z"
    },
    "papermill": {
     "duration": 0.226446,
     "end_time": "2022-10-16T14:23:37.102929",
     "exception": false,
     "start_time": "2022-10-16T14:23:36.876483",
     "status": "completed"
    },
    "tags": []
   },
   "outputs": [
    {
     "name": "stdout",
     "output_type": "stream",
     "text": [
      "There are 5566 unique meters represented in the dataset \n"
     ]
    }
   ],
   "source": [
    "print(f\"There are {df.LCLid.nunique()} unique meters represented in the dataset \") "
   ]
  },
  {
   "cell_type": "markdown",
   "id": "bf73ec72",
   "metadata": {
    "papermill": {
     "duration": 0.009087,
     "end_time": "2022-10-16T14:23:37.121466",
     "exception": false,
     "start_time": "2022-10-16T14:23:37.112379",
     "status": "completed"
    },
    "tags": []
   },
   "source": [
    "### Meter with the highest usage for a single day:"
   ]
  },
  {
   "cell_type": "code",
   "execution_count": 17,
   "id": "bbff9402",
   "metadata": {
    "_kg_hide-input": true,
    "execution": {
     "iopub.execute_input": "2022-10-16T14:23:37.141294Z",
     "iopub.status.busy": "2022-10-16T14:23:37.140594Z",
     "iopub.status.idle": "2022-10-16T14:23:37.153763Z",
     "shell.execute_reply": "2022-10-16T14:23:37.152311Z"
    },
    "papermill": {
     "duration": 0.025873,
     "end_time": "2022-10-16T14:23:37.156475",
     "exception": false,
     "start_time": "2022-10-16T14:23:37.130602",
     "status": "completed"
    },
    "tags": []
   },
   "outputs": [
    {
     "name": "stdout",
     "output_type": "stream",
     "text": [
      "Details of the meter with highest usage for a single day: \n",
      "LCLid              MAC002670\n",
      "Date     2012-11-16 00:00:00\n",
      "KWH                  332.556\n",
      "Name: 1727625, dtype: object\n"
     ]
    }
   ],
   "source": [
    "maxkwh = df['KWH'].idxmax()\n",
    "print(f\"Details of the meter with highest usage for a single day: \\n{df.iloc[maxkwh]}\")"
   ]
  },
  {
   "cell_type": "markdown",
   "id": "f81ebce5",
   "metadata": {
    "papermill": {
     "duration": 0.009373,
     "end_time": "2022-10-16T14:23:37.175371",
     "exception": false,
     "start_time": "2022-10-16T14:23:37.165998",
     "status": "completed"
    },
    "tags": []
   },
   "source": [
    "### Visualize the usage over time for all the meters"
   ]
  },
  {
   "cell_type": "code",
   "execution_count": 18,
   "id": "8e799938",
   "metadata": {
    "_kg_hide-input": true,
    "execution": {
     "iopub.execute_input": "2022-10-16T14:23:37.195263Z",
     "iopub.status.busy": "2022-10-16T14:23:37.195001Z",
     "iopub.status.idle": "2022-10-16T14:25:11.908791Z",
     "shell.execute_reply": "2022-10-16T14:25:11.907813Z"
    },
    "papermill": {
     "duration": 94.731772,
     "end_time": "2022-10-16T14:25:11.916433",
     "exception": false,
     "start_time": "2022-10-16T14:23:37.184661",
     "status": "completed"
    },
    "tags": []
   },
   "outputs": [
    {
     "data": {
      "image/png": "[encoded data removed]",
      "text/plain": [
       "<Figure size 720x504 with 1 Axes>"
      ]
     },
     "metadata": {},
     "output_type": "display_data"
    }
   ],
   "source": [
    "sns.set(rc={'figure.figsize':(10, 7)})\n",
    "sns.lineplot(data=df['KWH']).set(title=\"Time series of all usage\")\n",
    "plt.show()"
   ]
  },
  {
   "cell_type": "markdown",
   "id": "35e24128",
   "metadata": {
    "papermill": {
     "duration": 0.009535,
     "end_time": "2022-10-16T14:25:11.935874",
     "exception": false,
     "start_time": "2022-10-16T14:25:11.926339",
     "status": "completed"
    },
    "tags": []
   },
   "source": [
    "### Visualize the time series for the highest energy user"
   ]
  },
  {
   "cell_type": "code",
   "execution_count": 19,
   "id": "23462364",
   "metadata": {
    "_kg_hide-input": true,
    "execution": {
     "iopub.execute_input": "2022-10-16T14:25:11.957083Z",
     "iopub.status.busy": "2022-10-16T14:25:11.956233Z",
     "iopub.status.idle": "2022-10-16T14:25:12.553076Z",
     "shell.execute_reply": "2022-10-16T14:25:12.551872Z"
    },
    "papermill": {
     "duration": 0.609635,
     "end_time": "2022-10-16T14:25:12.555218",
     "exception": false,
     "start_time": "2022-10-16T14:25:11.945583",
     "status": "completed"
    },
    "tags": []
   },
   "outputs": [
    {
     "data": {
      "image/png": "[encoded data removed]",
      "text/plain": [
       "<Figure size 720x504 with 1 Axes>"
      ]
     },
     "metadata": {},
     "output_type": "display_data"
    }
   ],
   "source": [
    "sns.set(rc={'figure.figsize':(10, 7)})\n",
    "highUser = df[df['LCLid']=='MAC002670']\n",
    "\n",
    "sns.lineplot(data=highUser, x='Date', y='KWH').set(title=\"KWH Usage for user: MAC002670\")\n",
    "plt.show()"
   ]
  },
  {
   "cell_type": "markdown",
   "id": "cc21a640",
   "metadata": {
    "papermill": {
     "duration": 0.010772,
     "end_time": "2022-10-16T14:25:12.577294",
     "exception": false,
     "start_time": "2022-10-16T14:25:12.566522",
     "status": "completed"
    },
    "tags": []
   },
   "source": [
    "Note: This meter may have a single highest usage, but it may not be the meter with most usage for the overall time period.\n",
    "We can group by the meters and sum the usage to see which one it is."
   ]
  },
  {
   "cell_type": "code",
   "execution_count": 20,
   "id": "2e263b3e",
   "metadata": {
    "_kg_hide-input": true,
    "execution": {
     "iopub.execute_input": "2022-10-16T14:25:12.600830Z",
     "iopub.status.busy": "2022-10-16T14:25:12.599844Z",
     "iopub.status.idle": "2022-10-16T14:25:12.857455Z",
     "shell.execute_reply": "2022-10-16T14:25:12.856450Z"
    },
    "papermill": {
     "duration": 0.27157,
     "end_time": "2022-10-16T14:25:12.859692",
     "exception": false,
     "start_time": "2022-10-16T14:25:12.588122",
     "status": "completed"
    },
    "tags": []
   },
   "outputs": [
    {
     "data": {
      "text/plain": [
       "LCLid\n",
       "MAC004179    65662.156\n",
       "MAC005406    51990.801\n",
       "MAC000557    44694.933\n",
       "MAC000985    43057.082\n",
       "MAC001145    42603.991\n",
       "MAC004993    40790.828\n",
       "MAC000105    40441.950\n",
       "MAC001739    37856.631\n",
       "MAC004593    37361.047\n",
       "MAC003329    36358.836\n",
       "Name: KWH, dtype: float64"
      ]
     },
     "execution_count": 20,
     "metadata": {},
     "output_type": "execute_result"
    }
   ],
   "source": [
    "groupedByMtr = (df\n",
    "                    .groupby([\"LCLid\"])\n",
    "                    .KWH\n",
    "                    .sum()\n",
    "                    .sort_values(ascending=False))\n",
    "\n",
    "groupedByMtr[:10]"
   ]
  },
  {
   "cell_type": "markdown",
   "id": "1e16a602",
   "metadata": {
    "papermill": {
     "duration": 0.010306,
     "end_time": "2022-10-16T14:25:12.880831",
     "exception": false,
     "start_time": "2022-10-16T14:25:12.870525",
     "status": "completed"
    },
    "tags": []
   },
   "source": [
    "**The Meter with the most usage is MAC004179.** Let's plot that one "
   ]
  },
  {
   "cell_type": "code",
   "execution_count": 21,
   "id": "7301f833",
   "metadata": {
    "_kg_hide-input": true,
    "execution": {
     "iopub.execute_input": "2022-10-16T14:25:12.902991Z",
     "iopub.status.busy": "2022-10-16T14:25:12.902678Z",
     "iopub.status.idle": "2022-10-16T14:25:13.462365Z",
     "shell.execute_reply": "2022-10-16T14:25:13.461444Z"
    },
    "papermill": {
     "duration": 0.573241,
     "end_time": "2022-10-16T14:25:13.464457",
     "exception": false,
     "start_time": "2022-10-16T14:25:12.891216",
     "status": "completed"
    },
    "tags": []
   },
   "outputs": [
    {
     "data": {
      "image/png": "[encoded data removed]",
      "text/plain": [
       "<Figure size 720x504 with 1 Axes>"
      ]
     },
     "metadata": {},
     "output_type": "display_data"
    }
   ],
   "source": [
    "\n",
    "highestUser = df[df['LCLid']=='MAC004179']\n",
    "\n",
    "sns.lineplot(data=highestUser, x='Date', y='KWH').set(title=\"KWH Usage for user: MAC004179\")\n",
    "plt.show()"
   ]
  },
  {
   "cell_type": "markdown",
   "id": "32b972fb",
   "metadata": {
    "papermill": {
     "duration": 0.010634,
     "end_time": "2022-10-16T14:25:13.486204",
     "exception": false,
     "start_time": "2022-10-16T14:25:13.475570",
     "status": "completed"
    },
    "tags": []
   },
   "source": [
    "As we can see, this meter MAC004179 has high usage throughout the period with a few occasional spikes."
   ]
  },
  {
   "cell_type": "code",
   "execution_count": 22,
   "id": "9f5cfcf7",
   "metadata": {
    "execution": {
     "iopub.execute_input": "2022-10-16T14:25:13.508951Z",
     "iopub.status.busy": "2022-10-16T14:25:13.508269Z",
     "iopub.status.idle": "2022-10-16T14:25:15.306891Z",
     "shell.execute_reply": "2022-10-16T14:25:15.305916Z"
    },
    "papermill": {
     "duration": 1.812595,
     "end_time": "2022-10-16T14:25:15.309300",
     "exception": false,
     "start_time": "2022-10-16T14:25:13.496705",
     "status": "completed"
    },
    "tags": []
   },
   "outputs": [
    {
     "data": {
      "text/html": [
       "<div>\n",
       "<style scoped>\n",
       "    .dataframe tbody tr th:only-of-type {\n",
       "        vertical-align: middle;\n",
       "    }\n",
       "\n",
       "    .dataframe tbody tr th {\n",
       "        vertical-align: top;\n",
       "    }\n",
       "\n",
       "    .dataframe thead th {\n",
       "        text-align: right;\n",
       "    }\n",
       "</style>\n",
       "<table border=\"1\" class=\"dataframe\">\n",
       "  <thead>\n",
       "    <tr style=\"text-align: right;\">\n",
       "      <th></th>\n",
       "      <th>LCLid</th>\n",
       "      <th>Date</th>\n",
       "      <th>KWH</th>\n",
       "      <th>Year</th>\n",
       "      <th>Month</th>\n",
       "      <th>Week</th>\n",
       "      <th>Day_of_week</th>\n",
       "    </tr>\n",
       "  </thead>\n",
       "  <tbody>\n",
       "    <tr>\n",
       "      <th>0</th>\n",
       "      <td>MAC000002</td>\n",
       "      <td>2012-10-12</td>\n",
       "      <td>7.098</td>\n",
       "      <td>2012</td>\n",
       "      <td>10</td>\n",
       "      <td>41</td>\n",
       "      <td>4</td>\n",
       "    </tr>\n",
       "    <tr>\n",
       "      <th>1</th>\n",
       "      <td>MAC000002</td>\n",
       "      <td>2012-10-13</td>\n",
       "      <td>11.087</td>\n",
       "      <td>2012</td>\n",
       "      <td>10</td>\n",
       "      <td>41</td>\n",
       "      <td>5</td>\n",
       "    </tr>\n",
       "    <tr>\n",
       "      <th>2</th>\n",
       "      <td>MAC000002</td>\n",
       "      <td>2012-10-14</td>\n",
       "      <td>13.223</td>\n",
       "      <td>2012</td>\n",
       "      <td>10</td>\n",
       "      <td>41</td>\n",
       "      <td>6</td>\n",
       "    </tr>\n",
       "    <tr>\n",
       "      <th>3</th>\n",
       "      <td>MAC000002</td>\n",
       "      <td>2012-10-15</td>\n",
       "      <td>10.257</td>\n",
       "      <td>2012</td>\n",
       "      <td>10</td>\n",
       "      <td>42</td>\n",
       "      <td>0</td>\n",
       "    </tr>\n",
       "    <tr>\n",
       "      <th>4</th>\n",
       "      <td>MAC000002</td>\n",
       "      <td>2012-10-16</td>\n",
       "      <td>9.769</td>\n",
       "      <td>2012</td>\n",
       "      <td>10</td>\n",
       "      <td>42</td>\n",
       "      <td>1</td>\n",
       "    </tr>\n",
       "  </tbody>\n",
       "</table>\n",
       "</div>"
      ],
      "text/plain": [
       "       LCLid       Date     KWH  Year  Month  Week  Day_of_week\n",
       "0  MAC000002 2012-10-12   7.098  2012     10    41            4\n",
       "1  MAC000002 2012-10-13  11.087  2012     10    41            5\n",
       "2  MAC000002 2012-10-14  13.223  2012     10    41            6\n",
       "3  MAC000002 2012-10-15  10.257  2012     10    42            0\n",
       "4  MAC000002 2012-10-16   9.769  2012     10    42            1"
      ]
     },
     "execution_count": 22,
     "metadata": {},
     "output_type": "execute_result"
    }
   ],
   "source": [
    "df['Year'] = df['Date'].dt.year\n",
    "df['Month'] = df['Date'].dt.month\n",
    "df['Week'] = df['Date'].dt.isocalendar().week\n",
    "df['Day_of_week'] = df['Date'].dt.weekday\n",
    "\n",
    "wkdaysmap = {0:'Mon',1:'Tues',2:'Wed',3:'Thurs',4:'Fri', 5:'Sat', 6:'Sun'}\n",
    "\n",
    "df.head()"
   ]
  },
  {
   "cell_type": "code",
   "execution_count": 23,
   "id": "9dfa827b",
   "metadata": {
    "execution": {
     "iopub.execute_input": "2022-10-16T14:25:15.335257Z",
     "iopub.status.busy": "2022-10-16T14:25:15.334348Z",
     "iopub.status.idle": "2022-10-16T14:25:15.724127Z",
     "shell.execute_reply": "2022-10-16T14:25:15.723150Z"
    },
    "papermill": {
     "duration": 0.405053,
     "end_time": "2022-10-16T14:25:15.726297",
     "exception": false,
     "start_time": "2022-10-16T14:25:15.321244",
     "status": "completed"
    },
    "tags": []
   },
   "outputs": [
    {
     "data": {
      "image/png": "[encoded data removed]",
      "text/plain": [
       "<Figure size 720x504 with 1 Axes>"
      ]
     },
     "metadata": {},
     "output_type": "display_data"
    }
   ],
   "source": [
    "# sns.set(rc={'figure.figsize':(10, 7)})\n",
    "fig, ax = plt.subplots(figsize=(10,7))\n",
    "groupedByWeek = df.groupby(\"Week\")['KWH'].mean() #get the series\n",
    "sns.lineplot(data=groupedByWeek)\n",
    "ax.set_title(\"Mean KWH usage for each week of the year\", fontsize = 10)\n",
    "ax.set_xlabel(\"Week Number\", fontsize = 10)\n",
    "ax.set_ylabel(\"Mean KWH\", fontsize = 10)\n",
    "fig.tight_layout(pad = 1.1)\n",
    "plt.show()"
   ]
  },
  {
   "cell_type": "markdown",
   "id": "b87f4d4a",
   "metadata": {
    "papermill": {
     "duration": 0.011858,
     "end_time": "2022-10-16T14:25:15.750435",
     "exception": false,
     "start_time": "2022-10-16T14:25:15.738577",
     "status": "completed"
    },
    "tags": []
   },
   "source": [
    "Most usage seems to be in the winter when the temperature drops in london and there's high amount of heater usage."
   ]
  },
  {
   "cell_type": "code",
   "execution_count": null,
   "id": "4d8c59e1",
   "metadata": {
    "papermill": {
     "duration": 0.013079,
     "end_time": "2022-10-16T14:25:15.775340",
     "exception": false,
     "start_time": "2022-10-16T14:25:15.762261",
     "status": "completed"
    },
    "tags": []
   },
   "outputs": [],
   "source": []
  }
 ],
 "metadata": {
  "kernelspec": {
   "display_name": "Python 3",
   "language": "python",
   "name": "python3"
  },
  "language_info": {
   "codemirror_mode": {
    "name": "ipython",
    "version": 3
   },
   "file_extension": ".py",
   "mimetype": "text/x-python",
   "name": "python",
   "nbconvert_exporter": "python",
   "pygments_lexer": "ipython3",
   "version": "3.7.12"
  },
  "papermill": {
   "default_parameters": {},
   "duration": 132.175388,
   "end_time": "2022-10-16T14:25:16.909577",
   "environment_variables": {},
   "exception": null,
   "input_path": "__notebook__.ipynb",
   "output_path": "__notebook__.ipynb",
   "parameters": {},
   "start_time": "2022-10-16T14:23:04.734189",
   "version": "2.3.4"
  }
 },
 "nbformat": 4,
 "nbformat_minor": 5
}
